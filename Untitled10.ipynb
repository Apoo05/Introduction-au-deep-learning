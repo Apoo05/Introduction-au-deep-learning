{
  "nbformat": 4,
  "nbformat_minor": 0,
  "metadata": {
    "colab": {
      "provenance": [],
      "authorship_tag": "ABX9TyN5zJ8Zx80qwAw2SPUMvdSi",
      "include_colab_link": true
    },
    "kernelspec": {
      "name": "python3",
      "display_name": "Python 3"
    },
    "language_info": {
      "name": "python"
    }
  },
  "cells": [
    {
      "cell_type": "markdown",
      "metadata": {
        "id": "view-in-github",
        "colab_type": "text"
      },
      "source": [
        "<a href=\"https://colab.research.google.com/github/Apoo05/Introduction-au-deep-learning/blob/main/Untitled10.ipynb\" target=\"_parent\"><img src=\"https://colab.research.google.com/assets/colab-badge.svg\" alt=\"Open In Colab\"/></a>"
      ]
    },
    {
      "cell_type": "code",
      "execution_count": null,
      "metadata": {
        "id": "w40QMI6KIqz7"
      },
      "outputs": [],
      "source": [
        "#stacked LSTM\n",
        "model=Sequential()\n",
        "model.add(input(shape=(1,time_steps)))\n",
        "model.add(LSTM(48,return_sequences=True))\n",
        "model.add(Dropout(0.4))\n",
        "model.add(LSTM(48,return_sequences=True))\n",
        "model.add(Dropout(0.2))\n",
        "model.add(LSTM(48))\n",
        "model.add(Dropout(0.2))\n",
        "model.add(Dense(1,activation='relu'))\n",
        "model.compile(loss='mean_squared_error',optimizer='adam',metrics=['mean_squared_error'])\n",
        "model.summary()"
      ]
    }
  ]
}